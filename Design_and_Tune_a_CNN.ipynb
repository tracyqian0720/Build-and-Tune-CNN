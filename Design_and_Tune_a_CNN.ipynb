{
  "nbformat": 4,
  "nbformat_minor": 0,
  "metadata": {
    "colab": {
      "name": "Design and Tune a CNN",
      "provenance": [],
      "collapsed_sections": []
    },
    "kernelspec": {
      "name": "python3",
      "display_name": "Python 3"
    },
    "accelerator": "GPU"
  },
  "cells": [
    {
      "cell_type": "markdown",
      "metadata": {
        "id": "oz9MhPEUMrkC"
      },
      "source": [
        "**Assignment**: Designing and Tuning a Convolutional Neural Network (CNN)\n",
        "\n",
        "**Assignment Description**: There are four parts to this assignment\n",
        "\n",
        "1.   Building a CNN\n",
        "2.   Training and Tuning a CNN\n",
        "3.   Trying Out a New Dataset\n",
        "4.   Open-Ended Exploration\n",
        "\n",
        "You will be largely guided through the first two parts. The third and fourth part are discussion based questions. \n",
        "\n",
        "**Before the experiment, make sure that you have GPU enabled. This setting can be found under *Tools --> Settings***"
      ]
    },
    {
      "cell_type": "code",
      "metadata": {
        "id": "jHvVs2GqXxNF"
      },
      "source": [
        "#Install Objax\n",
        "!pip --quiet install  objax\n",
        "import objax"
      ],
      "execution_count": null,
      "outputs": []
    },
    {
      "cell_type": "code",
      "metadata": {
        "id": "xqQf8f2RBDcx"
      },
      "source": [
        "import tensorflow as tf \n",
        "import tensorflow_datasets as tfds\n",
        "import numpy as np\n",
        "import jax.numpy as jn\n",
        "import random \n",
        "import matplotlib.pyplot as plt"
      ],
      "execution_count": null,
      "outputs": []
    },
    {
      "cell_type": "markdown",
      "metadata": {
        "id": "w_7vcWRFO39r"
      },
      "source": [
        "##**Part 1. Building a CNN** \n",
        "\n",
        "Before we build our CNN model, let's first import a dataset. For our experiment, we load the CIFAR10 dataset from Tensorflow's dataset repository. The CIFAR10 dataset consists of 60,000 32x32 colour images in 10 classes, with 6000 images per class. The 10 different classes represent airplanes, cars, birds, cats, deer, dogs, frogs, horses, ships, and trucks.\n",
        "\n",
        "After loading the dataset, we split the dataset into training, validation and test set. The dataset is originally stored as 50,000 training examples and 10,000 test examples. Instead, we will combine them together and make our own split.\n",
        "\n",
        "Do not change split ratio for now."
      ]
    },
    {
      "cell_type": "code",
      "metadata": {
        "id": "e5VQDzs1XodT"
      },
      "source": [
        "#.load_data() by default returns a split between training and test set. \n",
        "# We then adjust the training set into a format that can be accepted by our CNN\n",
        "(X_train, Y_train), (X_test, Y_test) = tf.keras.datasets.cifar10.load_data()\n",
        "X_train = X_train.transpose(0, 3, 1, 2) / 255.0\n",
        "Y_train = Y_train.flatten()\n",
        "X_test = X_test.transpose(0, 3, 1, 2) / 255.0\n",
        "Y_test = Y_test.flatten()\n",
        "\n",
        "np.random.seed(1)\n",
        "# To create a validation set, we first concate the original splitted dataset into a single dataset \n",
        "# then randomly shuffle the images and labels in the same way (seed = 1)\n",
        "X_data = np.concatenate([X_train, X_test], axis = 0)\n",
        "Y_data = np.concatenate([Y_train, Y_test], axis = 0)\n",
        "\n",
        "N = np.arange(len(X_data))\n",
        "np.random.shuffle(N)\n",
        "X_data = X_data[N]\n",
        "Y_data = Y_data[N]\n",
        "\n",
        "#Next, we partition the randomly shuffled dataset into training, validation and testset according a ratio\n",
        "train_ratio = 0.80\n",
        "valid_ratio = 0.1\n",
        "n_train = int(len(X_data) * train_ratio)\n",
        "n_valid = int(len(X_data) * valid_ratio)\n",
        "\n",
        "X_train, X_valid, X_test = X_data[:n_train], X_data[n_train:n_train+n_valid], X_data[n_train+n_valid:]\n",
        "Y_train, Y_valid, Y_test = Y_data[:n_train], Y_data[n_train:n_train+n_valid], Y_data[n_train+n_valid:]"
      ],
      "execution_count": null,
      "outputs": []
    },
    {
      "cell_type": "markdown",
      "metadata": {
        "id": "8EsU3g9BigDL"
      },
      "source": [
        "**Q1:How many iterations will it take to go through the entire training set given the numberof  training  examples  yielded  by  the  data  split?   How  many  iterations  are  there  in  30epochs?**\n",
        "\n",
        "Our training set contains 80% of the whole dataset, which is *60000 x 0.8 = 48000* images, validation set contains 10% of the whole dataset. If the batch size is 32, it will take *48000/32 = 1500* iterations to process the whole training set. 30 epochs is *30x1500 = 45000* iterations to train over the whole training set."
      ]
    },
    {
      "cell_type": "markdown",
      "metadata": {
        "id": "szDmexFGT7Qs"
      },
      "source": [
        "\n",
        "Next we will construct a **Base Model**, which in our case is a small CNN."
      ]
    },
    {
      "cell_type": "code",
      "metadata": {
        "id": "_Eeh6jvfBV4p"
      },
      "source": [
        "class ConvNet(objax.Module):\n",
        "  def __init__(self, number_of_channels = 3, number_of_classes = 10):\n",
        "    self.conv_1 = objax.nn.Sequential([objax.nn.Conv2D(number_of_channels, 16, 2), objax.functional.relu])\n",
        "    self.conv_2 = objax.nn.Sequential([objax.nn.Conv2D(16, 32, 2), objax.functional.relu])\n",
        "    self.linear = objax.nn.Linear(32, number_of_classes) \n",
        "\n",
        "  def __call__(self, x):\n",
        "    x = objax.functional.max_pool_2d(self.conv_1(x), 2, 2)\n",
        "    x = self.conv_2(x)\n",
        "  \n",
        "    x = x.mean((2,3)) #<--- global average pooling \n",
        "    x = self.linear(x)\n",
        "    return x\n",
        "\n",
        "#The following line creates the CNN\n",
        "model = ConvNet()\n",
        "#You can examine the architecture of our CNN by calling model.vars()"
      ],
      "execution_count": null,
      "outputs": []
    },
    {
      "cell_type": "markdown",
      "metadata": {
        "id": "Crz2dQZBds89"
      },
      "source": [
        "Before we train our conv net, let's try to better understand concepts of convolution filter and linear layer. In the following, you will take the first very image of the training set, create a simple convolution routine, and show that our own routine matches what Objax returns. \n",
        "\n"
      ]
    },
    {
      "cell_type": "code",
      "metadata": {
        "id": "Epa7ETf6XddH",
        "colab": {
          "base_uri": "https://localhost:8080/",
          "height": 283
        },
        "outputId": "0dcbfa7a-af4a-4bc9-92e8-c05f5c1c07fd"
      },
      "source": [
        "#Let's plot the first image in the training set.\n",
        "plt.imshow(X_train[23].transpose(1,2,0))"
      ],
      "execution_count": null,
      "outputs": [
        {
          "output_type": "execute_result",
          "data": {
            "text/plain": [
              "<matplotlib.image.AxesImage at 0x7f01c81ca6d0>"
            ]
          },
          "metadata": {},
          "execution_count": 50
        },
        {
          "output_type": "display_data",
          "data": {
            "image/png": "[encoded data removed]",
            "text/plain": [
              "<Figure size 432x288 with 1 Axes>"
            ]
          },
          "metadata": {
            "needs_background": "light"
          }
        }
      ]
    },
    {
      "cell_type": "markdown",
      "metadata": {
        "id": "PQjS06vgXZ7r"
      },
      "source": [
        "Next, we will pass our image through Objax's convolution routine. Carefully examine the following code and try to understand the dimension of the filter weights and the output. "
      ]
    },
    {
      "cell_type": "code",
      "metadata": {
        "id": "vFBbJHBpXXUc",
        "colab": {
          "base_uri": "https://localhost:8080/"
        },
        "outputId": "e4a342b3-24ed-4742-fc67-4e421c5bd2c1"
      },
      "source": [
        "# We append the first image with a batch size of 1 so it can be fed into a convolution layer\n",
        "my_image = np.expand_dims(X_train[0], 0)\n",
        "\n",
        "#Consider a very simple CNN filter with stride = 1 and no padding ('VALID').\n",
        "Conv2d = objax.nn.Conv2D(nin = 3, nout = 2, k = 1, strides = 1, padding = 'VALID', use_bias = False)\n",
        "\n",
        "filter_weights = Conv2d.w.value #This is the initial weight of the filter, which we gradually update when training, we ignore bias for now\n",
        "\n",
        "print(\"Filter weights:\", filter_weights)\n",
        "print(\"Conv output:\", Conv2d(my_image))\n",
        "print(\"Conv output shape:\", np.shape(Conv2d(my_image)))"
      ],
      "execution_count": null,
      "outputs": [
        {
          "output_type": "stream",
          "name": "stdout",
          "text": [
            "Filter weights: [[[[-0.04991655  0.15043241]\n",
            "   [ 0.73415095  0.7302311 ]\n",
            "   [ 0.42225453 -0.20575704]]]]\n",
            "Conv output: [[[[0.131903   0.12756383 0.11289041 ... 0.8836789  0.8731076\n",
            "    0.86833566]\n",
            "   [0.17529473 0.15071984 0.15628213 ... 0.8996314  0.8999816\n",
            "    0.89564246]\n",
            "   [0.1796339  0.15359886 0.177978   ... 0.8970114  0.9008692\n",
            "    0.89447534]\n",
            "   ...\n",
            "   [0.19092359 0.18224524 0.18224524 ... 0.23915055 0.24348971\n",
            "    0.25650725]\n",
            "   [0.16054939 0.15187104 0.15187104 ... 0.2651856  0.2608464\n",
            "    0.2608464 ]\n",
            "   [0.1431927  0.13885352 0.1431927  ... 0.325934   0.32159483\n",
            "    0.30857733]]\n",
            "\n",
            "  [[0.08789665 0.08524996 0.07811677 ... 0.434133   0.43353403\n",
            "    0.43536472]\n",
            "   [0.11436357 0.09826646 0.1045837  ... 0.46265456 0.46477225\n",
            "    0.46212557]\n",
            "   [0.11701027 0.10113011 0.11781716 ... 0.48742646 0.48734045\n",
            "    0.47617286]\n",
            "   ...\n",
            "   [0.11645445 0.11116107 0.11116107 ... 0.16931616 0.17196286\n",
            "    0.17990293]\n",
            "   [0.09792761 0.09263422 0.09263422 ... 0.18519631 0.18254963\n",
            "    0.18254963]\n",
            "   [0.08734084 0.08469415 0.08734084 ... 0.22225    0.21960331\n",
            "    0.21166323]]]]\n",
            "Conv output shape: (1, 2, 32, 32)\n"
          ]
        }
      ]
    },
    {
      "cell_type": "markdown",
      "metadata": {
        "id": "KsDg8yateSuH"
      },
      "source": [
        "**In the cells below, you will create your own convolution routine that takes in the image and the initial weights used by Objax's own convolution routine (Conv2d.w.value) and show that your convolution routine returns the same value than Objax's.**\n",
        "\n",
        "A simple implementation only requires 4 FOR loops. You may wish to draw inspiration from https://objax.readthedocs.io/en/latest/objax/nn.html?highlight=objax.nn.Conv2D#objax.nn.Conv2D"
      ]
    },
    {
      "cell_type": "markdown",
      "metadata": {
        "id": "vYHYaxUWj-pP"
      },
      "source": [
        "**Q2: Fill in the code for your custom convolution filter and show that it returnsthe same output as Objax’s own convolution routine.**"
      ]
    },
    {
      "cell_type": "code",
      "metadata": {
        "id": "f5B6K9gyXTAx",
        "colab": {
          "base_uri": "https://localhost:8080/"
        },
        "outputId": "3ed9ae46-8586-4e7b-a00b-2106d7d004b5"
      },
      "source": [
        "#Solution to the above problem\n",
        "\n",
        "def my_conv_net(my_image, initial_filter_weights):\n",
        "  h = 32\n",
        "  w = 32\n",
        "  my_conv_output = np.zeros((1,2,32, 32))\n",
        "\n",
        "  for c in range(2):\n",
        "    for t in range(3):\n",
        "      for h in range(32):\n",
        "        for w in range(32):\n",
        "          my_conv_output[0][c][h][w] += np.multiply(my_image[0][t][h][w],initial_filter_weights[0][0][t][c])\n",
        "\n",
        "  return my_conv_output\n",
        "\n",
        "my_conv_output = my_conv_net(my_image,filter_weights)\n",
        "\n",
        "print(\"Filter weights:\", filter_weights)\n",
        "print(\"Conv output:\", my_conv_net(my_image,filter_weights))\n",
        "print(\"Conv output shape:\", np.shape(my_conv_net(my_image,filter_weights)))"
      ],
      "execution_count": null,
      "outputs": [
        {
          "output_type": "stream",
          "name": "stdout",
          "text": [
            "Filter weights: [[[[-0.04991655  0.15043241]\n",
            "   [ 0.73415095  0.7302311 ]\n",
            "   [ 0.42225453 -0.20575704]]]]\n",
            "Conv output: [[[[0.131903   0.12756382 0.11289041 ... 0.8836789  0.87310763\n",
            "    0.86833568]\n",
            "   [0.17529472 0.15071983 0.15628213 ... 0.89963139 0.89998162\n",
            "    0.89564245]\n",
            "   [0.17963389 0.15359886 0.17797799 ... 0.89701142 0.9008692\n",
            "    0.89447528]\n",
            "   ...\n",
            "   [0.19092358 0.18224524 0.18224524 ... 0.23915055 0.24348972\n",
            "    0.25650724]\n",
            "   [0.16054937 0.15187103 0.15187103 ... 0.26518558 0.26084641\n",
            "    0.26084641]\n",
            "   [0.14319268 0.13885351 0.14319268 ... 0.325934   0.32159482\n",
            "    0.30857731]]\n",
            "\n",
            "  [[0.08789665 0.08524996 0.07811677 ... 0.43413299 0.433534\n",
            "    0.43536474]\n",
            "   [0.11436357 0.09826646 0.10458369 ... 0.46265454 0.46477225\n",
            "    0.46212556]\n",
            "   [0.11701026 0.10113011 0.11781715 ... 0.48742648 0.48734048\n",
            "    0.47617284]\n",
            "   ...\n",
            "   [0.11645445 0.11116107 0.11116107 ... 0.16931616 0.17196285\n",
            "    0.17990292]\n",
            "   [0.09792761 0.09263422 0.09263422 ... 0.18519631 0.18254962\n",
            "    0.18254962]\n",
            "   [0.08734084 0.08469415 0.08734084 ... 0.22225    0.2196033\n",
            "    0.21166323]]]]\n",
            "Conv output shape: (1, 2, 32, 32)\n"
          ]
        }
      ]
    },
    {
      "cell_type": "markdown",
      "metadata": {
        "id": "d9dbovOwiVDE"
      },
      "source": [
        "The outputs of last convolution layer is typically rearranged so it can be fed into a linear layer. Check that calling .mean((2,3)) rearranges the output of your convolution routine by examining the shape of the output. (Not graded) Think about alternative ways of rearranging the output from the convolution layer. "
      ]
    },
    {
      "cell_type": "code",
      "metadata": {
        "id": "q7hngIUNXIMQ",
        "colab": {
          "base_uri": "https://localhost:8080/"
        },
        "outputId": "b63eaba7-923a-403d-8ed2-885dc7b85ae5"
      },
      "source": [
        "#Check that .mean((2,3)) rearranges your image\n",
        "my_conv_output.mean((2,3))"
      ],
      "execution_count": null,
      "outputs": [
        {
          "output_type": "execute_result",
          "data": {
            "text/plain": [
              "array([[0.30128768, 0.20166716]])"
            ]
          },
          "metadata": {},
          "execution_count": 56
        }
      ]
    },
    {
      "cell_type": "markdown",
      "metadata": {
        "id": "xTWfvL0mis3D"
      },
      "source": [
        "Take your rearranged output and feed it into a linear layer of appropriate size. Here is an example:\n",
        "\n",
        "```\n",
        "Linear_Layer = objax.nn.Linear(N, 1)\n",
        "Y = Linear_Layer(X)\n",
        "```\n",
        "Next, extract the weights and bias of the linear layer using \n",
        "```\n",
        "Linear_Layer.w.value\n",
        "Linear_Layer.b.value\n",
        "```\n",
        "**Using these values, write one line of code that manually implements the linear layer. Show that it provides the same value as Objax's own linear layer.** \n",
        "\n"
      ]
    },
    {
      "cell_type": "markdown",
      "metadata": {
        "id": "97mxTQ3_kHNp"
      },
      "source": [
        "**Q3:Fill in the code for your linear layer, and show that it returns the same outputas passing through Objax’s own linear layer.**"
      ]
    },
    {
      "cell_type": "code",
      "metadata": {
        "id": "Uq-TkFpgXDC7",
        "colab": {
          "base_uri": "https://localhost:8080/"
        },
        "outputId": "02283e81-17ed-412e-fe8b-4d468c3a9209"
      },
      "source": [
        "Linear_Layer = objax.nn.Linear(2,1)\n",
        "Y = Linear_Layer(my_conv_output.mean((2,3)))\n",
        "\n",
        "w_value = Linear_Layer.w.value\n",
        "b_value = Linear_Layer.b.value\n",
        "\n",
        "print(\"w value is:\",w_value, \"b_value is\",b_value)\n",
        "\n",
        "output_value = np.dot(my_conv_output.mean((2,3)), Linear_Layer.w.value)\n",
        "\n",
        "print(\"output_value:\",output_value)\n",
        "if Y == output_value:\n",
        "  print(\"the two values are the same\")"
      ],
      "execution_count": null,
      "outputs": [
        {
          "output_type": "stream",
          "name": "stdout",
          "text": [
            "w value is: [[-0.97404206]\n",
            " [-0.31181675]] b_value is [0.]\n",
            "output_value: [[-0.35635007]]\n",
            "the two values are the same\n"
          ]
        }
      ]
    },
    {
      "cell_type": "markdown",
      "metadata": {
        "id": "_tCY3BEBFoO_"
      },
      "source": [
        "**Q4: Difference between training and validation set:**\n",
        "\n",
        "Training set is used to train the weights of the model, validation set is used to tune hyperparameters. \n",
        "\n",
        "When splitting the dataset, training set is usually the bigger portion of it."
      ]
    },
    {
      "cell_type": "markdown",
      "metadata": {
        "id": "96QQXl3d2kZn"
      },
      "source": [
        "You have now completed Part 1 of the assignment. Good job!\n"
      ]
    },
    {
      "cell_type": "markdown",
      "metadata": {
        "id": "2kqaH75UUaSE"
      },
      "source": [
        "##**Part 2. Training and Tuning a CNN**\n",
        "\n",
        "The following starter code trains the neural network in Part 1. However, the optimizer and batch sampling routine are left for you to implement. Complete the lines that says #PUT YOUR CODE HERE#\n",
        "\n",
        "Afterwards, train the model, and observe the training/validation loss and accuracy plots. You should observe that the validation accuracy is low and stagnates after a few epochs."
      ]
    },
    {
      "cell_type": "markdown",
      "metadata": {
        "id": "wh26GPSWkbht"
      },
      "source": [
        "**Q1:Complete the optimizer by using the definition of (stochastic) gradient descent**"
      ]
    },
    {
      "cell_type": "code",
      "metadata": {
        "id": "zBcHWoCl0URZ"
      },
      "source": [
        "#Define loss function as averaged value of of cross entropies\n",
        "def loss_function(x, labels):\n",
        "    logit = model(x)\n",
        "    return objax.functional.loss.cross_entropy_logits_sparse(logit, labels).mean()\n",
        "\n",
        "#Define a prediction function\n",
        "predict = objax.Jit(lambda x: objax.functional.softmax(model(x)), model.vars()) \n",
        "\n",
        "#Create an object that can be used to calculate the gradient and value of loss_function\n",
        "gv= objax.GradValues(loss_function, model.vars())\n",
        "\n",
        "#Create an object that can be used to provide trainable variables in the model\n",
        "tv = objax.ModuleList(objax.TrainRef(x) for x in model.vars().subset(objax.TrainVar))\n",
        "\n",
        "#Training routine\n",
        "def train_op(x, y, learning_rate):\n",
        "    lr = learning_rate\n",
        "    gradient, loss_value = gv(x, y)   # calculate gradient and loss value \"backprop\"\n",
        "    #next we update the trainable parameter using SGD and similar procedure\n",
        "    for grad, params in zip(gradient, tv.vars()):\n",
        "      params.value = params.value - lr*grad                   \n",
        "    return loss_value                      # return loss value\n",
        "\n",
        "#make train_op (much) faster using JIT compilation\n",
        "train_op = objax.Jit(train_op, gv.vars() + tv.vars())"
      ],
      "execution_count": null,
      "outputs": []
    },
    {
      "cell_type": "markdown",
      "metadata": {
        "id": "595DI5b9k3mE"
      },
      "source": [
        "**Q2:Complete the batch sampling code in the train function by specifying a batch of examples.**"
      ]
    },
    {
      "cell_type": "code",
      "metadata": {
        "id": "hGPpVTfG0Ug1"
      },
      "source": [
        "def train(EPOCHS = 20, BATCH = 32, LEARNING_RATE = 9e-4):\n",
        "  avg_train_loss_epoch = []\n",
        "  avg_val_loss_epoch = []\n",
        "  train_acc_epoch = []\n",
        "  val_acc_epoch = []\n",
        "\n",
        "  for epoch in range(EPOCHS):\n",
        "      avg_train_loss = 0 # (averaged) training loss per batch\n",
        "      avg_val_loss =  0  # (averaged) validation loss per batch\n",
        "      train_acc = 0      # training accuracy per batch\n",
        "      val_acc = 0        # validation accuracy per batch\n",
        "\n",
        "      # shuffle the examples prior to training to remove correlation \n",
        "      train_indices = np.arange(len(X_train)) \n",
        "      np.random.shuffle(train_indices)\n",
        "      for it in range(0, X_train.shape[0], BATCH):\n",
        "          batch = train_indices[it:it+BATCH]\n",
        "          avg_train_loss += float(train_op(X_train[batch], Y_train[batch], LEARNING_RATE)[0]) * len(batch)\n",
        "          train_prediction = predict(X_train[batch]).argmax(1)\n",
        "          train_acc += (np.array(train_prediction).flatten() == Y_train[batch]).sum()\n",
        "      train_acc_epoch.append(train_acc/X_train.shape[0])\n",
        "      avg_train_loss_epoch.append(avg_train_loss/X_train.shape[0])\n",
        "\n",
        "      # run validation\n",
        "      val_indices = np.arange(len(X_valid)) \n",
        "      np.random.shuffle(val_indices)    \n",
        "      for it in range(0, X_valid.shape[0], BATCH):\n",
        "          batch = val_indices[it:it+BATCH]\n",
        "          avg_val_loss += float(loss_function(X_valid[batch], Y_valid[batch])) * len(batch)\n",
        "          val_prediction = predict(X_valid[batch]).argmax(1)\n",
        "          val_acc += (np.array(val_prediction).flatten() == Y_valid[batch]).sum()\n",
        "      val_acc_epoch.append(val_acc/X_valid.shape[0])\n",
        "      avg_val_loss_epoch.append(avg_val_loss/X_valid.shape[0])\n",
        "\n",
        "      print('Epoch %04d  Training Loss %.2f Validation Loss %.2f Training Accuracy %.2f Validation Accuracy %.2f' % (epoch + 1, avg_train_loss/X_train.shape[0], avg_val_loss/X_valid.shape[0], 100*train_acc/X_train.shape[0], 100*val_acc/X_valid.shape[0]))\n",
        "  \n",
        "  #Plot training loss\n",
        "  plt.title(\"Train vs Validation Loss\")\n",
        "  plt.plot(avg_train_loss_epoch, label=\"Train\")\n",
        "  plt.plot(avg_val_loss_epoch, label=\"Validation\")\n",
        "  plt.xlabel(\"Epoch\")\n",
        "  plt.ylabel(\"Loss\")\n",
        "  plt.legend(loc='best')\n",
        "  plt.show()\n",
        "\n",
        "  plt.title(\"Train vs Validation Accuracy\")\n",
        "  plt.plot(train_acc_epoch, label=\"Train\")\n",
        "  plt.plot(val_acc_epoch, label=\"Validation\")\n",
        "  plt.xlabel(\"Epoch\")\n",
        "  plt.ylabel(\"Accuracy (%)\")\n",
        "  plt.legend(loc='best')\n",
        "  plt.show()"
      ],
      "execution_count": null,
      "outputs": []
    },
    {
      "cell_type": "markdown",
      "metadata": {
        "id": "tgIn2eqGlDmU"
      },
      "source": [
        "**Q4:Traing model and visualize loss and accuracy**"
      ]
    },
    {
      "cell_type": "code",
      "metadata": {
        "id": "8YqWtV5VYW45",
        "colab": {
          "base_uri": "https://localhost:8080/",
          "height": 920
        },
        "outputId": "34dea7b8-9bf4-4584-8ed4-be1507a73ec0"
      },
      "source": [
        "train()"
      ],
      "execution_count": null,
      "outputs": [
        {
          "output_type": "stream",
          "name": "stdout",
          "text": [
            "Epoch 0001  Training Loss 2.30 Validation Loss 2.30 Training Accuracy 9.86 Validation Accuracy 9.97\n",
            "Epoch 0002  Training Loss 2.30 Validation Loss 2.29 Training Accuracy 9.82 Validation Accuracy 10.00\n",
            "Epoch 0003  Training Loss 2.29 Validation Loss 2.29 Training Accuracy 10.18 Validation Accuracy 10.18\n",
            "Epoch 0004  Training Loss 2.29 Validation Loss 2.29 Training Accuracy 10.19 Validation Accuracy 10.88\n",
            "Epoch 0005  Training Loss 2.29 Validation Loss 2.29 Training Accuracy 10.70 Validation Accuracy 10.93\n",
            "Epoch 0006  Training Loss 2.29 Validation Loss 2.28 Training Accuracy 10.75 Validation Accuracy 11.30\n",
            "Epoch 0007  Training Loss 2.28 Validation Loss 2.28 Training Accuracy 11.32 Validation Accuracy 11.65\n",
            "Epoch 0008  Training Loss 2.28 Validation Loss 2.28 Training Accuracy 11.37 Validation Accuracy 11.98\n",
            "Epoch 0009  Training Loss 2.28 Validation Loss 2.27 Training Accuracy 11.81 Validation Accuracy 12.58\n",
            "Epoch 0010  Training Loss 2.27 Validation Loss 2.27 Training Accuracy 12.41 Validation Accuracy 12.82\n",
            "Epoch 0011  Training Loss 2.27 Validation Loss 2.27 Training Accuracy 12.61 Validation Accuracy 13.03\n",
            "Epoch 0012  Training Loss 2.26 Validation Loss 2.26 Training Accuracy 13.29 Validation Accuracy 12.98\n",
            "Epoch 0013  Training Loss 2.26 Validation Loss 2.26 Training Accuracy 13.36 Validation Accuracy 13.53\n",
            "Epoch 0014  Training Loss 2.25 Validation Loss 2.25 Training Accuracy 13.63 Validation Accuracy 14.17\n",
            "Epoch 0015  Training Loss 2.25 Validation Loss 2.24 Training Accuracy 14.17 Validation Accuracy 14.38\n",
            "Epoch 0016  Training Loss 2.24 Validation Loss 2.24 Training Accuracy 14.84 Validation Accuracy 14.55\n",
            "Epoch 0017  Training Loss 2.24 Validation Loss 2.23 Training Accuracy 15.30 Validation Accuracy 16.17\n",
            "Epoch 0018  Training Loss 2.23 Validation Loss 2.22 Training Accuracy 16.36 Validation Accuracy 16.80\n",
            "Epoch 0019  Training Loss 2.22 Validation Loss 2.21 Training Accuracy 16.88 Validation Accuracy 17.20\n",
            "Epoch 0020  Training Loss 2.21 Validation Loss 2.21 Training Accuracy 17.80 Validation Accuracy 17.60\n"
          ]
        },
        {
          "output_type": "display_data",
          "data": {
            "image/png": "[encoded data removed]",
            "text/plain": [
              "<Figure size 432x288 with 1 Axes>"
            ]
          },
          "metadata": {
            "needs_background": "light"
          }
        },
        {
          "output_type": "display_data",
          "data": {
            "image/png": "[encoded data removed]",
            "text/plain": [
              "<Figure size 432x288 with 1 Axes>"
            ]
          },
          "metadata": {
            "needs_background": "light"
          }
        }
      ]
    },
    {
      "cell_type": "markdown",
      "metadata": {
        "id": "hluN6UIbNyj7"
      },
      "source": [
        "Follow the assignment handout for questions to be answered in this part of the assignment."
      ]
    },
    {
      "cell_type": "markdown",
      "metadata": {
        "id": "LrbvEbZYhidH"
      },
      "source": [
        "**Q4:Define the meaning of Hyperparameter**\n",
        "\n",
        "We tune the hyperparameter by running a trained model with the validation set.\n",
        "Hyperparameters contain information that indicates if we are potentially underfitting or overfitting our training model, a poorly trained model would be unhelpful and yield a greater loss and a less accuracy when running on the test set, thus it is important that we fine tune the hyperparameters so that our model is the best generalized possible.\n"
      ]
    },
    {
      "cell_type": "markdown",
      "metadata": {
        "id": "w-83kIqfmxNE"
      },
      "source": [
        "**Q5:My set of hyperparameters**\n",
        "\n",
        "H = {Learning Rate, Activation Function, Batch Size, Epochs} \n",
        "\n",
        "H_1 = {0.005, Sigmoid, 64, 30 }\n",
        "\n",
        "H_2 = {0.0001, elu, 16, 35}"
      ]
    },
    {
      "cell_type": "markdown",
      "metadata": {
        "id": "J-h_sRW6qVIx"
      },
      "source": [
        "**Q6:Create two additional networks M1 and M2**"
      ]
    },
    {
      "cell_type": "markdown",
      "metadata": {
        "id": "RS_aicGXpbrt"
      },
      "source": [
        "***M1 with H_1 = {0.005, Sigmoid, 64, 30 }***"
      ]
    },
    {
      "cell_type": "code",
      "metadata": {
        "id": "S8LXS4oHZA9M"
      },
      "source": [
        "class ConvNet(objax.Module):\n",
        "  def __init__(self, number_of_channels = 3, number_of_classes = 10):\n",
        "    self.conv_1 = objax.nn.Sequential([objax.nn.Conv2D(number_of_channels, 16, 2), objax.functional.sigmoid])\n",
        "    self.conv_2 = objax.nn.Sequential([objax.nn.Conv2D(16, 32, 2), objax.functional.sigmoid])\n",
        "    self.linear = objax.nn.Linear(32, number_of_classes) \n",
        "\n",
        "  def __call__(self, x):\n",
        "    x = objax.functional.max_pool_2d(self.conv_1(x), 2, 2)\n",
        "    x = self.conv_2(x)\n",
        "  \n",
        "    x = x.mean((2,3)) #<--- global average pooling \n",
        "    x = self.linear(x)\n",
        "    return x\n",
        "\n",
        "#The following line creates the CNN\n",
        "M1 = ConvNet()\n",
        "\n",
        "#Define loss function as averaged value of of cross entropies\n",
        "def loss_function(x, labels):\n",
        "    logit = M1(x)\n",
        "    return objax.functional.loss.cross_entropy_logits_sparse(logit, labels).mean()\n",
        "\n",
        "#Define a prediction function\n",
        "predict = objax.Jit(lambda x: objax.functional.softmax(M1(x)), M1.vars()) \n",
        "\n",
        "#Create an object that can be used to calculate the gradient and value of loss_function\n",
        "gv= objax.GradValues(loss_function, M1.vars())\n",
        "\n",
        "#Create an object that can be used to provide trainable variables in the model\n",
        "tv = objax.ModuleList(objax.TrainRef(x) for x in M1.vars().subset(objax.TrainVar))\n",
        "\n",
        "#Training routine\n",
        "def train_op(x, y, learning_rate):\n",
        "    lr = learning_rate\n",
        "    gradient, loss_value = gv(x, y)   # calculate gradient and loss value \"backprop\"\n",
        "    #next we update the trainable parameter using SGD and similar procedure\n",
        "    for grad, params in zip(gradient, tv.vars()):\n",
        "      params.value = params.value - lr*grad                   \n",
        "    return loss_value                      # return loss value\n",
        "\n",
        "#make train_op (much) faster using JIT compilation\n",
        "train_op = objax.Jit(train_op, gv.vars() + tv.vars())\n",
        "\n",
        "def train(EPOCHS = 30, BATCH = 64, LEARNING_RATE = 5e-3):\n",
        "  avg_train_loss_epoch = []\n",
        "  avg_val_loss_epoch = []\n",
        "  train_acc_epoch = []\n",
        "  val_acc_epoch = []\n",
        "\n",
        "  for epoch in range(EPOCHS):\n",
        "      avg_train_loss = 0 # (averaged) training loss per batch\n",
        "      avg_val_loss =  0  # (averaged) validation loss per batch\n",
        "      train_acc = 0      # training accuracy per batch\n",
        "      val_acc = 0        # validation accuracy per batch\n",
        "\n",
        "      # shuffle the examples prior to training to remove correlation \n",
        "      train_indices = np.arange(len(X_train)) \n",
        "      np.random.shuffle(train_indices)\n",
        "      for it in range(0, X_train.shape[0], BATCH):\n",
        "          batch = train_indices[it:it+BATCH]\n",
        "          avg_train_loss += float(train_op(X_train[batch], Y_train[batch], LEARNING_RATE)[0]) * len(batch)\n",
        "          train_prediction = predict(X_train[batch]).argmax(1)\n",
        "          train_acc += (np.array(train_prediction).flatten() == Y_train[batch]).sum()\n",
        "      train_acc_epoch.append(train_acc/X_train.shape[0])\n",
        "      avg_train_loss_epoch.append(avg_train_loss/X_train.shape[0])\n",
        "\n",
        "      # run validation\n",
        "      val_indices = np.arange(len(X_valid)) \n",
        "      np.random.shuffle(val_indices)    \n",
        "      for it in range(0, X_valid.shape[0], BATCH):\n",
        "          batch = val_indices[it:it+BATCH]\n",
        "          avg_val_loss += float(loss_function(X_valid[batch], Y_valid[batch])) * len(batch)\n",
        "          val_prediction = predict(X_valid[batch]).argmax(1)\n",
        "          val_acc += (np.array(val_prediction).flatten() == Y_valid[batch]).sum()\n",
        "      val_acc_epoch.append(val_acc/X_valid.shape[0])\n",
        "      avg_val_loss_epoch.append(avg_val_loss/X_valid.shape[0])\n",
        "\n",
        "      print('Epoch %04d  Training Loss %.2f Validation Loss %.2f Training Accuracy %.2f Validation Accuracy %.2f' % (epoch + 1, avg_train_loss/X_train.shape[0], avg_val_loss/X_valid.shape[0], 100*train_acc/X_train.shape[0], 100*val_acc/X_valid.shape[0]))\n",
        "\n",
        "  #Plot training loss\n",
        "  plt.title(\"Train vs Validation Loss\")\n",
        "  plt.plot(avg_train_loss_epoch, label=\"Train\")\n",
        "  plt.plot(avg_val_loss_epoch, label=\"Validation\")\n",
        "  plt.xlabel(\"Epoch\")\n",
        "  plt.ylabel(\"Loss\")\n",
        "  plt.legend(loc='best')\n",
        "  plt.show()\n",
        "\n",
        "  plt.title(\"Train vs Validation Accuracy\")\n",
        "  plt.plot(train_acc_epoch, label=\"Train\")\n",
        "  plt.plot(val_acc_epoch, label=\"Validation\")\n",
        "  plt.xlabel(\"Epoch\")\n",
        "  plt.ylabel(\"Accuracy (%)\")\n",
        "  plt.legend(loc='best')\n",
        "  plt.show()"
      ],
      "execution_count": null,
      "outputs": []
    },
    {
      "cell_type": "code",
      "metadata": {
        "colab": {
          "base_uri": "https://localhost:8080/",
          "height": 1000
        },
        "id": "I3oWe9uhrVQH",
        "outputId": "7ed7d2c9-db9b-4e76-be09-3b9768e407a5"
      },
      "source": [
        "train()"
      ],
      "execution_count": null,
      "outputs": [
        {
          "output_type": "stream",
          "name": "stdout",
          "text": [
            "Epoch 0001  Training Loss 2.33 Validation Loss 2.30 Training Accuracy 10.11 Validation Accuracy 11.20\n",
            "Epoch 0002  Training Loss 2.30 Validation Loss 2.30 Training Accuracy 11.39 Validation Accuracy 11.83\n",
            "Epoch 0003  Training Loss 2.30 Validation Loss 2.30 Training Accuracy 11.42 Validation Accuracy 9.50\n",
            "Epoch 0004  Training Loss 2.30 Validation Loss 2.30 Training Accuracy 10.62 Validation Accuracy 13.42\n",
            "Epoch 0005  Training Loss 2.30 Validation Loss 2.30 Training Accuracy 11.80 Validation Accuracy 11.00\n",
            "Epoch 0006  Training Loss 2.30 Validation Loss 2.30 Training Accuracy 11.46 Validation Accuracy 13.22\n",
            "Epoch 0007  Training Loss 2.30 Validation Loss 2.30 Training Accuracy 12.04 Validation Accuracy 12.18\n",
            "Epoch 0008  Training Loss 2.30 Validation Loss 2.30 Training Accuracy 11.19 Validation Accuracy 12.82\n",
            "Epoch 0009  Training Loss 2.30 Validation Loss 2.30 Training Accuracy 11.96 Validation Accuracy 12.23\n",
            "Epoch 0010  Training Loss 2.30 Validation Loss 2.30 Training Accuracy 11.48 Validation Accuracy 10.42\n",
            "Epoch 0011  Training Loss 2.30 Validation Loss 2.30 Training Accuracy 11.75 Validation Accuracy 11.80\n",
            "Epoch 0012  Training Loss 2.30 Validation Loss 2.30 Training Accuracy 12.58 Validation Accuracy 12.72\n",
            "Epoch 0013  Training Loss 2.30 Validation Loss 2.30 Training Accuracy 12.92 Validation Accuracy 12.37\n",
            "Epoch 0014  Training Loss 2.30 Validation Loss 2.30 Training Accuracy 12.50 Validation Accuracy 11.97\n",
            "Epoch 0015  Training Loss 2.30 Validation Loss 2.30 Training Accuracy 13.14 Validation Accuracy 14.75\n",
            "Epoch 0016  Training Loss 2.30 Validation Loss 2.30 Training Accuracy 13.26 Validation Accuracy 11.80\n",
            "Epoch 0017  Training Loss 2.30 Validation Loss 2.30 Training Accuracy 13.64 Validation Accuracy 12.13\n",
            "Epoch 0018  Training Loss 2.30 Validation Loss 2.30 Training Accuracy 12.81 Validation Accuracy 15.32\n",
            "Epoch 0019  Training Loss 2.30 Validation Loss 2.30 Training Accuracy 13.35 Validation Accuracy 14.85\n",
            "Epoch 0020  Training Loss 2.30 Validation Loss 2.30 Training Accuracy 14.00 Validation Accuracy 15.13\n",
            "Epoch 0021  Training Loss 2.30 Validation Loss 2.30 Training Accuracy 13.59 Validation Accuracy 14.47\n",
            "Epoch 0022  Training Loss 2.30 Validation Loss 2.30 Training Accuracy 14.16 Validation Accuracy 12.83\n",
            "Epoch 0023  Training Loss 2.30 Validation Loss 2.30 Training Accuracy 14.54 Validation Accuracy 14.15\n",
            "Epoch 0024  Training Loss 2.30 Validation Loss 2.30 Training Accuracy 14.28 Validation Accuracy 14.83\n",
            "Epoch 0025  Training Loss 2.30 Validation Loss 2.30 Training Accuracy 15.04 Validation Accuracy 14.42\n",
            "Epoch 0026  Training Loss 2.30 Validation Loss 2.29 Training Accuracy 14.71 Validation Accuracy 16.07\n",
            "Epoch 0027  Training Loss 2.29 Validation Loss 2.29 Training Accuracy 15.38 Validation Accuracy 13.28\n",
            "Epoch 0028  Training Loss 2.29 Validation Loss 2.29 Training Accuracy 14.32 Validation Accuracy 14.25\n",
            "Epoch 0029  Training Loss 2.29 Validation Loss 2.29 Training Accuracy 14.76 Validation Accuracy 15.23\n",
            "Epoch 0030  Training Loss 2.29 Validation Loss 2.29 Training Accuracy 15.33 Validation Accuracy 15.32\n"
          ]
        },
        {
          "output_type": "display_data",
          "data": {
            "image/png": "[encoded data removed]",
            "text/plain": [
              "<Figure size 432x288 with 1 Axes>"
            ]
          },
          "metadata": {
            "needs_background": "light"
          }
        },
        {
          "output_type": "display_data",
          "data": {
            "image/png": "[encoded data removed]",
            "text/plain": [
              "<Figure size 432x288 with 1 Axes>"
            ]
          },
          "metadata": {
            "needs_background": "light"
          }
        }
      ]
    },
    {
      "cell_type": "markdown",
      "metadata": {
        "id": "TQkT2MNpsY39"
      },
      "source": [
        "***M2 with H_2 = {0.0001, elu, 16, 35}***"
      ]
    },
    {
      "cell_type": "code",
      "metadata": {
        "id": "FsLsKxMRsg9r"
      },
      "source": [
        "class ConvNet(objax.Module):\n",
        "  def __init__(self, number_of_channels = 3, number_of_classes = 10):\n",
        "    self.conv_1 = objax.nn.Sequential([objax.nn.Conv2D(number_of_channels, 16, 2), objax.functional.elu])\n",
        "    self.conv_2 = objax.nn.Sequential([objax.nn.Conv2D(16, 32, 2), objax.functional.elu])\n",
        "    self.linear = objax.nn.Linear(32, number_of_classes) \n",
        "\n",
        "  def __call__(self, x):\n",
        "    x = objax.functional.max_pool_2d(self.conv_1(x), 2, 2)\n",
        "    x = self.conv_2(x)\n",
        "  \n",
        "    x = x.mean((2,3)) #<--- global average pooling \n",
        "    x = self.linear(x)\n",
        "    return x\n",
        "\n",
        "#The following line creates the CNN\n",
        "M2 = ConvNet()\n",
        "\n",
        "#Define loss function as averaged value of of cross entropies\n",
        "def loss_function(x, labels):\n",
        "    logit = M2(x)\n",
        "    return objax.functional.loss.cross_entropy_logits_sparse(logit, labels).mean()\n",
        "\n",
        "#Define a prediction function\n",
        "predict = objax.Jit(lambda x: objax.functional.softmax(M2(x)), M2.vars()) \n",
        "\n",
        "#Create an object that can be used to calculate the gradient and value of loss_function\n",
        "gv= objax.GradValues(loss_function, M2.vars())\n",
        "\n",
        "#Create an object that can be used to provide trainable variables in the model\n",
        "tv = objax.ModuleList(objax.TrainRef(x) for x in M2.vars().subset(objax.TrainVar))\n",
        "\n",
        "#Training routine\n",
        "def train_op(x, y, learning_rate):\n",
        "    lr = learning_rate\n",
        "    gradient, loss_value = gv(x, y)   # calculate gradient and loss value \"backprop\"\n",
        "    #next we update the trainable parameter using SGD and similar procedure\n",
        "    for grad, params in zip(gradient, tv.vars()):\n",
        "      params.value = params.value - lr*grad                   \n",
        "    return loss_value                      # return loss value\n",
        "\n",
        "#make train_op (much) faster using JIT compilation\n",
        "train_op = objax.Jit(train_op, gv.vars() + tv.vars())\n",
        "\n",
        "def train(EPOCHS = 35, BATCH = 16, LEARNING_RATE = 1e-4):\n",
        "  avg_train_loss_epoch = []\n",
        "  avg_val_loss_epoch = []\n",
        "  train_acc_epoch = []\n",
        "  val_acc_epoch = []\n",
        "\n",
        "  for epoch in range(EPOCHS):\n",
        "      avg_train_loss = 0 # (averaged) training loss per batch\n",
        "      avg_val_loss =  0  # (averaged) validation loss per batch\n",
        "      train_acc = 0      # training accuracy per batch\n",
        "      val_acc = 0        # validation accuracy per batch\n",
        "\n",
        "      # shuffle the examples prior to training to remove correlation \n",
        "      train_indices = np.arange(len(X_train)) \n",
        "      np.random.shuffle(train_indices)\n",
        "      for it in range(0, X_train.shape[0], BATCH):\n",
        "          batch = train_indices[it:it+BATCH]\n",
        "          avg_train_loss += float(train_op(X_train[batch], Y_train[batch], LEARNING_RATE)[0]) * len(batch)\n",
        "          train_prediction = predict(X_train[batch]).argmax(1)\n",
        "          train_acc += (np.array(train_prediction).flatten() == Y_train[batch]).sum()\n",
        "      train_acc_epoch.append(train_acc/X_train.shape[0])\n",
        "      avg_train_loss_epoch.append(avg_train_loss/X_train.shape[0])\n",
        "\n",
        "      # run validation\n",
        "      val_indices = np.arange(len(X_valid)) \n",
        "      np.random.shuffle(val_indices)    \n",
        "      for it in range(0, X_valid.shape[0], BATCH):\n",
        "          batch = val_indices[it:it+BATCH]\n",
        "          avg_val_loss += float(loss_function(X_valid[batch], Y_valid[batch])) * len(batch)\n",
        "          val_prediction = predict(X_valid[batch]).argmax(1)\n",
        "          val_acc += (np.array(val_prediction).flatten() == Y_valid[batch]).sum()\n",
        "      val_acc_epoch.append(val_acc/X_valid.shape[0])\n",
        "      avg_val_loss_epoch.append(avg_val_loss/X_valid.shape[0])\n",
        "\n",
        "      print('Epoch %04d  Training Loss %.2f Validation Loss %.2f Training Accuracy %.2f Validation Accuracy %.2f' % (epoch + 1, avg_train_loss/X_train.shape[0], avg_val_loss/X_valid.shape[0], 100*train_acc/X_train.shape[0], 100*val_acc/X_valid.shape[0]))\n",
        "\n",
        "  #Plot training loss\n",
        "  plt.title(\"Train vs Validation Loss\")\n",
        "  plt.plot(avg_train_loss_epoch, label=\"Train\")\n",
        "  plt.plot(avg_val_loss_epoch, label=\"Validation\")\n",
        "  plt.xlabel(\"Epoch\")\n",
        "  plt.ylabel(\"Loss\")\n",
        "  plt.legend(loc='best')\n",
        "  plt.show()\n",
        "\n",
        "  plt.title(\"Train vs Validation Accuracy\")\n",
        "  plt.plot(train_acc_epoch, label=\"Train\")\n",
        "  plt.plot(val_acc_epoch, label=\"Validation\")\n",
        "  plt.xlabel(\"Epoch\")\n",
        "  plt.ylabel(\"Accuracy (%)\")\n",
        "  plt.legend(loc='best')\n",
        "  plt.show()"
      ],
      "execution_count": null,
      "outputs": []
    },
    {
      "cell_type": "code",
      "metadata": {
        "colab": {
          "base_uri": "https://localhost:8080/",
          "height": 1000
        },
        "id": "Nx2uhWLJtE0s",
        "outputId": "6c006e40-eb00-45c7-b29f-a59e8c030cd0"
      },
      "source": [
        "train()"
      ],
      "execution_count": null,
      "outputs": [
        {
          "output_type": "stream",
          "name": "stdout",
          "text": [
            "Epoch 0001  Training Loss 2.32 Validation Loss 2.31 Training Accuracy 11.03 Validation Accuracy 10.62\n",
            "Epoch 0002  Training Loss 2.31 Validation Loss 2.30 Training Accuracy 10.04 Validation Accuracy 10.10\n",
            "Epoch 0003  Training Loss 2.30 Validation Loss 2.30 Training Accuracy 9.76 Validation Accuracy 9.88\n",
            "Epoch 0004  Training Loss 2.30 Validation Loss 2.30 Training Accuracy 9.63 Validation Accuracy 9.95\n",
            "Epoch 0005  Training Loss 2.30 Validation Loss 2.29 Training Accuracy 9.69 Validation Accuracy 10.08\n",
            "Epoch 0006  Training Loss 2.29 Validation Loss 2.29 Training Accuracy 9.97 Validation Accuracy 10.45\n",
            "Epoch 0007  Training Loss 2.29 Validation Loss 2.29 Training Accuracy 10.28 Validation Accuracy 10.87\n",
            "Epoch 0008  Training Loss 2.29 Validation Loss 2.29 Training Accuracy 10.74 Validation Accuracy 11.27\n",
            "Epoch 0009  Training Loss 2.29 Validation Loss 2.29 Training Accuracy 11.35 Validation Accuracy 11.80\n",
            "Epoch 0010  Training Loss 2.29 Validation Loss 2.29 Training Accuracy 11.91 Validation Accuracy 12.43\n",
            "Epoch 0011  Training Loss 2.29 Validation Loss 2.28 Training Accuracy 12.31 Validation Accuracy 13.15\n",
            "Epoch 0012  Training Loss 2.28 Validation Loss 2.28 Training Accuracy 12.90 Validation Accuracy 13.93\n",
            "Epoch 0013  Training Loss 2.28 Validation Loss 2.28 Training Accuracy 13.62 Validation Accuracy 14.20\n",
            "Epoch 0014  Training Loss 2.28 Validation Loss 2.28 Training Accuracy 13.88 Validation Accuracy 14.78\n",
            "Epoch 0015  Training Loss 2.28 Validation Loss 2.28 Training Accuracy 14.40 Validation Accuracy 15.23\n",
            "Epoch 0016  Training Loss 2.28 Validation Loss 2.28 Training Accuracy 15.01 Validation Accuracy 15.57\n",
            "Epoch 0017  Training Loss 2.28 Validation Loss 2.27 Training Accuracy 15.38 Validation Accuracy 15.73\n",
            "Epoch 0018  Training Loss 2.27 Validation Loss 2.27 Training Accuracy 15.56 Validation Accuracy 16.03\n",
            "Epoch 0019  Training Loss 2.27 Validation Loss 2.27 Training Accuracy 15.95 Validation Accuracy 16.38\n",
            "Epoch 0020  Training Loss 2.27 Validation Loss 2.27 Training Accuracy 16.04 Validation Accuracy 16.83\n",
            "Epoch 0021  Training Loss 2.27 Validation Loss 2.27 Training Accuracy 16.53 Validation Accuracy 17.17\n",
            "Epoch 0022  Training Loss 2.27 Validation Loss 2.27 Training Accuracy 16.95 Validation Accuracy 17.58\n",
            "Epoch 0023  Training Loss 2.27 Validation Loss 2.26 Training Accuracy 17.25 Validation Accuracy 17.73\n",
            "Epoch 0024  Training Loss 2.26 Validation Loss 2.26 Training Accuracy 17.26 Validation Accuracy 18.22\n",
            "Epoch 0025  Training Loss 2.26 Validation Loss 2.26 Training Accuracy 17.86 Validation Accuracy 18.35\n",
            "Epoch 0026  Training Loss 2.26 Validation Loss 2.26 Training Accuracy 18.04 Validation Accuracy 18.63\n",
            "Epoch 0027  Training Loss 2.26 Validation Loss 2.26 Training Accuracy 18.42 Validation Accuracy 18.73\n",
            "Epoch 0028  Training Loss 2.26 Validation Loss 2.25 Training Accuracy 18.57 Validation Accuracy 18.90\n",
            "Epoch 0029  Training Loss 2.25 Validation Loss 2.25 Training Accuracy 18.77 Validation Accuracy 19.23\n",
            "Epoch 0030  Training Loss 2.25 Validation Loss 2.25 Training Accuracy 18.80 Validation Accuracy 19.47\n",
            "Epoch 0031  Training Loss 2.25 Validation Loss 2.25 Training Accuracy 19.17 Validation Accuracy 19.53\n",
            "Epoch 0032  Training Loss 2.25 Validation Loss 2.25 Training Accuracy 19.43 Validation Accuracy 19.58\n",
            "Epoch 0033  Training Loss 2.24 Validation Loss 2.24 Training Accuracy 19.52 Validation Accuracy 19.92\n",
            "Epoch 0034  Training Loss 2.24 Validation Loss 2.24 Training Accuracy 19.77 Validation Accuracy 20.08\n",
            "Epoch 0035  Training Loss 2.24 Validation Loss 2.24 Training Accuracy 19.89 Validation Accuracy 20.22\n"
          ]
        },
        {
          "output_type": "display_data",
          "data": {
            "image/png": "[encoded data removed]",
            "text/plain": [
              "<Figure size 432x288 with 1 Axes>"
            ]
          },
          "metadata": {
            "needs_background": "light"
          }
        },
        {
          "output_type": "display_data",
          "data": {
            "image/png": "[encoded data removed]",
            "text/plain": [
              "<Figure size 432x288 with 1 Axes>"
            ]
          },
          "metadata": {
            "needs_background": "light"
          }
        }
      ]
    },
    {
      "cell_type": "markdown",
      "metadata": {
        "id": "OTecxnAdtLC7"
      },
      "source": [
        "**Q7: Final Model**\n",
        "\n",
        "Based on the loss and accuracy performance graphs, it is obvious that the M2 model is better than the other two models. The validation accuracy at the last epoch for each model is as following: \n",
        "\n",
        "Base Model (Epoch 22) -> 17.60\n",
        "\n",
        "M1 (Epoch 30) -> 15.32\n",
        "\n",
        "M2(Epoch 35) -> 20.22\n",
        "\n",
        "For M1, we increased the number of epochs, changed the activation function to sigmoid, doubled the batch size and increase the learning rate. The change in hyperparameters that results in such a difference in loss and accuracy is probably the new activation function. ReLU has all negative values for all y > 0 wheras Sigmoid allows small negative values; For slightly positive values, Sigmoid exaggerats them more than ReLU, but for more positive values, Sigmoid function eventually levels off and has a smaller impact on the model, which doesn't happen in ReLU since it is linear for all positive values. \n",
        "\n",
        "For M2, we increased the number of epochs, changed the activation function to ELU, halved the batch size and decrease the learning rate. This time we chose an activation function that is more similar to ReLU. We train the model more thoroughly by decreasing the batch size and increasing the number of epochs, \n",
        "which explains why the M2 model brings out a higher accuracy to the other two models.\n"
      ]
    },
    {
      "cell_type": "markdown",
      "metadata": {
        "id": "_XOXmJiGZF78"
      },
      "source": [
        "You have now completed Part 2 of the assignment. Good job!\n"
      ]
    },
    {
      "cell_type": "markdown",
      "metadata": {
        "id": "cno9fjO1o2Jq"
      },
      "source": [
        "##**Part 3. Trying Out a New Dataset**\n",
        "\n",
        "See the handout for instructions.\n"
      ]
    },
    {
      "cell_type": "markdown",
      "metadata": {
        "id": "h99OjTFqLGvb"
      },
      "source": [
        "**Q1:**Import and partition data"
      ]
    },
    {
      "cell_type": "code",
      "metadata": {
        "colab": {
          "base_uri": "https://localhost:8080/"
        },
        "id": "UgdzXV7DN4E_",
        "outputId": "ac7d4242-d994-4fbb-a980-f37ea7c689e6"
      },
      "source": [
        "(X_train, Y_train), (X_test, Y_test) = tf.keras.datasets.cifar100.load_data()\n",
        "X_train = X_train.transpose(0, 3, 1, 2) / 255.0\n",
        "Y_train = Y_train.flatten()\n",
        "X_test = X_test.transpose(0, 3, 1, 2) / 255.0\n",
        "Y_test = Y_test.flatten()\n",
        "\n",
        "print(np.shape(X_train))\n",
        "print(np.shape(Y_train))"
      ],
      "execution_count": null,
      "outputs": [
        {
          "output_type": "stream",
          "name": "stdout",
          "text": [
            "(50000, 3, 32, 32)\n",
            "(50000,)\n"
          ]
        }
      ]
    },
    {
      "cell_type": "code",
      "metadata": {
        "colab": {
          "base_uri": "https://localhost:8080/"
        },
        "id": "URxMaHm8J08i",
        "outputId": "1f19a4d8-f7f2-4d78-c5c6-f90f9d5268f4"
      },
      "source": [
        "#.load_data() by default returns a split between training and test set. \n",
        "# We then adjust the training set into a format that can be accepted by our CNN\n",
        "(X_train, Y_train), (X_test, Y_test) = tf.keras.datasets.cifar100.load_data()\n",
        "X_train = X_train.transpose(0, 3, 1, 2) / 255.0\n",
        "Y_train = Y_train.flatten()\n",
        "X_test = X_test.transpose(0, 3, 1, 2) / 255.0\n",
        "Y_test = Y_test.flatten()\n",
        "\n",
        "np.random.seed(1)\n",
        "# To create a validation set, we first concate the original splitted dataset into a single dataset \n",
        "# then randomly shuffle the images and labels in the same way (seed = 1)\n",
        "X_data = np.concatenate([X_train, X_test], axis = 0)\n",
        "Y_data = np.concatenate([Y_train, Y_test], axis = 0)\n",
        "\n",
        "N = np.arange(len(X_data))\n",
        "np.random.shuffle(N)\n",
        "X_data = X_data[N]\n",
        "Y_data = Y_data[N]\n",
        "\n",
        "#Next, we partition the randomly shuffled dataset into training, validation and testset according a ratio\n",
        "train_ratio = 0.80\n",
        "valid_ratio = 0.1\n",
        "n_train = int(len(X_data) * train_ratio)\n",
        "n_valid = int(len(X_data) * valid_ratio)\n",
        "\n",
        "X_train, X_valid, X_test = X_data[:n_train], X_data[n_train:n_train+n_valid], X_data[n_train+n_valid:]\n",
        "Y_train, Y_valid, Y_test = Y_data[:n_train], Y_data[n_train:n_train+n_valid], Y_data[n_train+n_valid:]"
      ],
      "execution_count": null,
      "outputs": [
        {
          "output_type": "stream",
          "name": "stdout",
          "text": [
            "Downloading data from https://www.cs.toronto.edu/~kriz/cifar-100-python.tar.gz\n",
            "169009152/169001437 [==============================] - 2s 0us/step\n",
            "169017344/169001437 [==============================] - 2s 0us/step\n"
          ]
        }
      ]
    },
    {
      "cell_type": "markdown",
      "metadata": {
        "id": "xTQMSTFPLKuN"
      },
      "source": [
        "**Q2:**Create a base model\n",
        "\n"
      ]
    },
    {
      "cell_type": "code",
      "metadata": {
        "id": "KUnOdWkYLXF5"
      },
      "source": [
        "class ConvNet(objax.Module):\n",
        "  def __init__(self, number_of_channels = 3, number_of_classes = 100):\n",
        "    self.conv_1 = objax.nn.Sequential([objax.nn.Conv2D(number_of_channels, 16, 2), objax.functional.relu])\n",
        "    self.conv_2 = objax.nn.Sequential([objax.nn.Conv2D(16, 32, 2), objax.functional.relu])\n",
        "    self.linear = objax.nn.Linear(32, number_of_classes) \n",
        "\n",
        "  def __call__(self, x):\n",
        "    x = objax.functional.max_pool_2d(self.conv_1(x), 2, 2)\n",
        "    x = self.conv_2(x)\n",
        "  \n",
        "    x = x.mean((2,3)) # <--- global average pooling \n",
        "    x = self.linear(x)\n",
        "    return x\n",
        "\n",
        "#The following line creates the CNN\n",
        "base_model = ConvNet()\n",
        "\n",
        "#Define loss function as averaged value of of cross entropies\n",
        "def loss_function(x, labels):\n",
        "    logit = base_model(x)\n",
        "    return objax.functional.loss.cross_entropy_logits_sparse(logit, labels).mean()\n",
        "\n",
        "#Define a prediction function\n",
        "predict = objax.Jit(lambda x: objax.functional.softmax(base_model(x)), base_model.vars()) \n",
        "\n",
        "#Create an object that can be used to calculate the gradient and value of loss_function\n",
        "gv= objax.GradValues(loss_function, base_model.vars())\n",
        "\n",
        "#Create an object that can be used to provide trainable variables in the model\n",
        "tv = objax.ModuleList(objax.TrainRef(x) for x in base_model.vars().subset(objax.TrainVar))\n",
        "\n",
        "#Training routine\n",
        "def train_op(x, y, learning_rate):\n",
        "    lr = learning_rate\n",
        "    gradient, loss_value = gv(x, y)   # calculate gradient and loss value \"backprop\"\n",
        "    #next we update the trainable parameter using SGD and similar procedure\n",
        "    for grad, params in zip(gradient, tv.vars()):\n",
        "      params.value = params.value - lr*grad                   \n",
        "    return loss_value                      # return loss value\n",
        "\n",
        "#make train_op (much) faster using JIT compilation\n",
        "train_op = objax.Jit(train_op, gv.vars() + tv.vars())\n",
        "\n",
        "def train(EPOCHS = 35, BATCH = 16, LEARNING_RATE = 1e-4):\n",
        "  avg_train_loss_epoch = []\n",
        "  avg_val_loss_epoch = []\n",
        "  train_acc_epoch = []\n",
        "  val_acc_epoch = []\n",
        "\n",
        "  for epoch in range(EPOCHS):\n",
        "      avg_train_loss = 0 # (averaged) training loss per batch\n",
        "      avg_val_loss =  0  # (averaged) validation loss per batch\n",
        "      train_acc = 0      # training accuracy per batch\n",
        "      val_acc = 0        # validation accuracy per batch\n",
        "\n",
        "      # shuffle the examples prior to training to remove correlation \n",
        "      train_indices = np.arange(len(X_train)) \n",
        "      np.random.shuffle(train_indices)\n",
        "      for it in range(0, X_train.shape[0], BATCH):\n",
        "          batch = train_indices[it:it+BATCH]\n",
        "          avg_train_loss += float(train_op(X_train[batch], Y_train[batch], LEARNING_RATE)[0]) * len(batch)\n",
        "          train_prediction = predict(X_train[batch]).argmax(1)\n",
        "          train_acc += (np.array(train_prediction).flatten() == Y_train[batch]).sum()\n",
        "      train_acc_epoch.append(train_acc/X_train.shape[0])\n",
        "      avg_train_loss_epoch.append(avg_train_loss/X_train.shape[0])\n",
        "\n",
        "      # run validation\n",
        "      val_indices = np.arange(len(X_valid)) \n",
        "      np.random.shuffle(val_indices)    \n",
        "      for it in range(0, X_valid.shape[0], BATCH):\n",
        "          batch = val_indices[it:it+BATCH]\n",
        "          avg_val_loss += float(loss_function(X_valid[batch], Y_valid[batch])) * len(batch)\n",
        "          val_prediction = predict(X_valid[batch]).argmax(1)\n",
        "          val_acc += (np.array(val_prediction).flatten() == Y_valid[batch]).sum()\n",
        "      val_acc_epoch.append(val_acc/X_valid.shape[0])\n",
        "      avg_val_loss_epoch.append(avg_val_loss/X_valid.shape[0])\n",
        "\n",
        "      print('Epoch %04d  Training Loss %.2f Validation Loss %.2f Training Accuracy %.2f Validation Accuracy %.2f' % (epoch + 1, avg_train_loss/X_train.shape[0], avg_val_loss/X_valid.shape[0], 100*train_acc/X_train.shape[0], 100*val_acc/X_valid.shape[0]))\n",
        "\n",
        "  #Plot training loss\n",
        "  plt.title(\"Train vs Validation Loss\")\n",
        "  plt.plot(avg_train_loss_epoch, label=\"Train\")\n",
        "  plt.plot(avg_val_loss_epoch, label=\"Validation\")\n",
        "  plt.xlabel(\"Epoch\")\n",
        "  plt.ylabel(\"Loss\")\n",
        "  plt.legend(loc='best')\n",
        "  plt.show()\n",
        "\n",
        "  plt.title(\"Train vs Validation Accuracy\")\n",
        "  plt.plot(train_acc_epoch, label=\"Train\")\n",
        "  plt.plot(val_acc_epoch, label=\"Validation\")\n",
        "  plt.xlabel(\"Epoch\")\n",
        "  plt.ylabel(\"Accuracy (%)\")\n",
        "  plt.legend(loc='best')\n",
        "  plt.show()"
      ],
      "execution_count": null,
      "outputs": []
    },
    {
      "cell_type": "code",
      "metadata": {
        "colab": {
          "base_uri": "https://localhost:8080/",
          "height": 1000
        },
        "id": "CmzOc8AkOye2",
        "outputId": "6f90d9e2-6127-4d55-80e4-476adffe9765"
      },
      "source": [
        "train()"
      ],
      "execution_count": null,
      "outputs": [
        {
          "output_type": "stream",
          "name": "stdout",
          "text": [
            "Epoch 0001  Training Loss 4.61 Validation Loss 4.61 Training Accuracy 0.76 Validation Accuracy 0.63\n",
            "Epoch 0002  Training Loss 4.61 Validation Loss 4.61 Training Accuracy 0.75 Validation Accuracy 0.60\n",
            "Epoch 0003  Training Loss 4.61 Validation Loss 4.61 Training Accuracy 0.71 Validation Accuracy 0.55\n",
            "Epoch 0004  Training Loss 4.61 Validation Loss 4.61 Training Accuracy 0.68 Validation Accuracy 0.53\n",
            "Epoch 0005  Training Loss 4.61 Validation Loss 4.61 Training Accuracy 0.66 Validation Accuracy 0.52\n",
            "Epoch 0006  Training Loss 4.61 Validation Loss 4.61 Training Accuracy 0.62 Validation Accuracy 0.47\n",
            "Epoch 0007  Training Loss 4.61 Validation Loss 4.61 Training Accuracy 0.60 Validation Accuracy 0.47\n",
            "Epoch 0008  Training Loss 4.61 Validation Loss 4.61 Training Accuracy 0.58 Validation Accuracy 0.45\n",
            "Epoch 0009  Training Loss 4.61 Validation Loss 4.61 Training Accuracy 0.55 Validation Accuracy 0.42\n",
            "Epoch 0010  Training Loss 4.61 Validation Loss 4.61 Training Accuracy 0.54 Validation Accuracy 0.40\n",
            "Epoch 0011  Training Loss 4.61 Validation Loss 4.61 Training Accuracy 0.52 Validation Accuracy 0.38\n",
            "Epoch 0012  Training Loss 4.61 Validation Loss 4.61 Training Accuracy 0.51 Validation Accuracy 0.38\n",
            "Epoch 0013  Training Loss 4.61 Validation Loss 4.61 Training Accuracy 0.50 Validation Accuracy 0.38\n",
            "Epoch 0014  Training Loss 4.61 Validation Loss 4.61 Training Accuracy 0.49 Validation Accuracy 0.33\n",
            "Epoch 0015  Training Loss 4.61 Validation Loss 4.61 Training Accuracy 0.47 Validation Accuracy 0.33\n",
            "Epoch 0016  Training Loss 4.61 Validation Loss 4.61 Training Accuracy 0.46 Validation Accuracy 0.30\n",
            "Epoch 0017  Training Loss 4.61 Validation Loss 4.61 Training Accuracy 0.45 Validation Accuracy 0.32\n",
            "Epoch 0018  Training Loss 4.61 Validation Loss 4.61 Training Accuracy 0.45 Validation Accuracy 0.28\n",
            "Epoch 0019  Training Loss 4.61 Validation Loss 4.61 Training Accuracy 0.42 Validation Accuracy 0.32\n",
            "Epoch 0020  Training Loss 4.61 Validation Loss 4.61 Training Accuracy 0.41 Validation Accuracy 0.33\n",
            "Epoch 0021  Training Loss 4.61 Validation Loss 4.61 Training Accuracy 0.42 Validation Accuracy 0.32\n",
            "Epoch 0022  Training Loss 4.61 Validation Loss 4.61 Training Accuracy 0.42 Validation Accuracy 0.35\n",
            "Epoch 0023  Training Loss 4.61 Validation Loss 4.61 Training Accuracy 0.41 Validation Accuracy 0.37\n",
            "Epoch 0024  Training Loss 4.61 Validation Loss 4.61 Training Accuracy 0.40 Validation Accuracy 0.38\n",
            "Epoch 0025  Training Loss 4.61 Validation Loss 4.61 Training Accuracy 0.42 Validation Accuracy 0.38\n",
            "Epoch 0026  Training Loss 4.60 Validation Loss 4.61 Training Accuracy 0.42 Validation Accuracy 0.47\n",
            "Epoch 0027  Training Loss 4.60 Validation Loss 4.61 Training Accuracy 0.43 Validation Accuracy 0.48\n",
            "Epoch 0028  Training Loss 4.60 Validation Loss 4.61 Training Accuracy 0.44 Validation Accuracy 0.52\n",
            "Epoch 0029  Training Loss 4.60 Validation Loss 4.61 Training Accuracy 0.46 Validation Accuracy 0.55\n",
            "Epoch 0030  Training Loss 4.60 Validation Loss 4.61 Training Accuracy 0.46 Validation Accuracy 0.55\n",
            "Epoch 0031  Training Loss 4.60 Validation Loss 4.60 Training Accuracy 0.47 Validation Accuracy 0.48\n",
            "Epoch 0032  Training Loss 4.60 Validation Loss 4.60 Training Accuracy 0.46 Validation Accuracy 0.52\n",
            "Epoch 0033  Training Loss 4.60 Validation Loss 4.60 Training Accuracy 0.47 Validation Accuracy 0.50\n",
            "Epoch 0034  Training Loss 4.60 Validation Loss 4.60 Training Accuracy 0.45 Validation Accuracy 0.47\n",
            "Epoch 0035  Training Loss 4.60 Validation Loss 4.60 Training Accuracy 0.42 Validation Accuracy 0.42\n"
          ]
        },
        {
          "output_type": "display_data",
          "data": {
            "image/png": "[encoded data removed]",
            "text/plain": [
              "<Figure size 432x288 with 1 Axes>"
            ]
          },
          "metadata": {
            "needs_background": "light"
          }
        },
        {
          "output_type": "display_data",
          "data": {
            "image/png": "[encoded data removed]",
            "text/plain": [
              "<Figure size 432x288 with 1 Axes>"
            ]
          },
          "metadata": {
            "needs_background": "light"
          }
        }
      ]
    },
    {
      "cell_type": "markdown",
      "metadata": {
        "id": "iCPHoijHLNdU"
      },
      "source": [
        "**Q3:**\n",
        "Pick hyperparameter"
      ]
    },
    {
      "cell_type": "markdown",
      "metadata": {
        "id": "h93J_yoM-GXa"
      },
      "source": [
        "We pick our hyperparameter to be: \n",
        "\n",
        "H = {Learning Rate,  Epochs,number of outputs of conv layer 1} \n",
        "\n",
        "H = {8*e-3, 50, 32}"
      ]
    },
    {
      "cell_type": "code",
      "metadata": {
        "id": "m9O_fcmnLXsp"
      },
      "source": [
        "class ConvNet(objax.Module):\n",
        "  def __init__(self, number_of_channels = 3, number_of_classes = 100):\n",
        "    self.conv_1 = objax.nn.Sequential([objax.nn.Conv2D(number_of_channels, 32, 2), objax.functional.relu])\n",
        "    self.conv_2 = objax.nn.Sequential([objax.nn.Conv2D(32, 32, 2), objax.functional.relu])\n",
        "    self.linear = objax.nn.Linear(32, number_of_classes) \n",
        "\n",
        "  def __call__(self, x):\n",
        "    x = objax.functional.max_pool_2d(self.conv_1(x), 2, 2)\n",
        "    x = self.conv_2(x)\n",
        "  \n",
        "    x = x.mean((2,3)) #<--- global average pooling \n",
        "    x = self.linear(x)\n",
        "    return x\n",
        "\n",
        "#The following line creates the CNN\n",
        "M1 = ConvNet()\n",
        "\n",
        "#Define loss function as averaged value of of cross entropies\n",
        "def loss_function(x, labels):\n",
        "    logit = M1(x)\n",
        "    return objax.functional.loss.cross_entropy_logits_sparse(logit, labels).mean()\n",
        "\n",
        "#Define a prediction function\n",
        "predict = objax.Jit(lambda x: objax.functional.softmax(M1(x)), M1.vars()) \n",
        "\n",
        "#Create an object that can be used to calculate the gradient and value of loss_function\n",
        "gv= objax.GradValues(loss_function, M1.vars())\n",
        "\n",
        "#Create an object that can be used to provide trainable variables in the model\n",
        "tv = objax.ModuleList(objax.TrainRef(x) for x in M1.vars().subset(objax.TrainVar))\n",
        "\n",
        "#Training routine\n",
        "def train_op(x, y, learning_rate):\n",
        "    lr = learning_rate\n",
        "    gradient, loss_value = gv(x, y)   # calculate gradient and loss value \"backprop\"\n",
        "    #next we update the trainable parameter using SGD and similar procedure\n",
        "    for grad, params in zip(gradient, tv.vars()):\n",
        "      params.value = params.value - lr*grad                   \n",
        "    return loss_value                      # return loss value\n",
        "\n",
        "#make train_op (much) faster using JIT compilation\n",
        "train_op = objax.Jit(train_op, gv.vars() + tv.vars())\n",
        "\n",
        "def train(EPOCHS = 50, BATCH = 16, LEARNING_RATE = 8e-3):\n",
        "  avg_train_loss_epoch = []\n",
        "  avg_val_loss_epoch = []\n",
        "  train_acc_epoch = []\n",
        "  val_acc_epoch = []\n",
        "\n",
        "  for epoch in range(EPOCHS):\n",
        "      avg_train_loss = 0 # (averaged) training loss per batch\n",
        "      avg_val_loss =  0  # (averaged) validation loss per batch\n",
        "      train_acc = 0      # training accuracy per batch\n",
        "      val_acc = 0        # validation accuracy per batch\n",
        "\n",
        "      # shuffle the examples prior to training to remove correlation \n",
        "      train_indices = np.arange(len(X_train)) \n",
        "      np.random.shuffle(train_indices)\n",
        "      for it in range(0, X_train.shape[0], BATCH):\n",
        "          batch = train_indices[it:it+BATCH]\n",
        "          avg_train_loss += float(train_op(X_train[batch], Y_train[batch], LEARNING_RATE)[0]) * len(batch)\n",
        "          train_prediction = predict(X_train[batch]).argmax(1)\n",
        "          train_acc += (np.array(train_prediction).flatten() == Y_train[batch]).sum()\n",
        "      train_acc_epoch.append(train_acc/X_train.shape[0])\n",
        "      avg_train_loss_epoch.append(avg_train_loss/X_train.shape[0])\n",
        "\n",
        "      # run validation\n",
        "      val_indices = np.arange(len(X_valid)) \n",
        "      np.random.shuffle(val_indices)    \n",
        "      for it in range(0, X_valid.shape[0], BATCH):\n",
        "          batch = val_indices[it:it+BATCH]\n",
        "          avg_val_loss += float(loss_function(X_valid[batch], Y_valid[batch])) * len(batch)\n",
        "          val_prediction = predict(X_valid[batch]).argmax(1)\n",
        "          val_acc += (np.array(val_prediction).flatten() == Y_valid[batch]).sum()\n",
        "      val_acc_epoch.append(val_acc/X_valid.shape[0])\n",
        "      avg_val_loss_epoch.append(avg_val_loss/X_valid.shape[0])\n",
        "\n",
        "      print('Epoch %04d  Training Loss %.2f Validation Loss %.2f Training Accuracy %.2f Validation Accuracy %.2f' % (epoch + 1, avg_train_loss/X_train.shape[0], avg_val_loss/X_valid.shape[0], 100*train_acc/X_train.shape[0], 100*val_acc/X_valid.shape[0]))\n",
        "\n",
        "  #Plot training loss\n",
        "  plt.title(\"Train vs Validation Loss\")\n",
        "  plt.plot(avg_train_loss_epoch, label=\"Train\")\n",
        "  plt.plot(avg_val_loss_epoch, label=\"Validation\")\n",
        "  plt.xlabel(\"Epoch\")\n",
        "  plt.ylabel(\"Loss\")\n",
        "  plt.legend(loc='best')\n",
        "  plt.show()\n",
        "\n",
        "  plt.title(\"Train vs Validation Accuracy\")\n",
        "  plt.plot(train_acc_epoch, label=\"Train\")\n",
        "  plt.plot(val_acc_epoch, label=\"Validation\")\n",
        "  plt.xlabel(\"Epoch\")\n",
        "  plt.ylabel(\"Accuracy (%)\")\n",
        "  plt.legend(loc='best')\n",
        "  plt.show()"
      ],
      "execution_count": null,
      "outputs": []
    },
    {
      "cell_type": "code",
      "metadata": {
        "colab": {
          "base_uri": "https://localhost:8080/",
          "height": 312
        },
        "id": "qdU8v5J1ZzOx",
        "outputId": "81f00863-c3dc-42e8-a172-f6b22d38df8a"
      },
      "source": [
        "train()"
      ],
      "execution_count": null,
      "outputs": [
        {
          "output_type": "error",
          "ename": "KeyboardInterrupt",
          "evalue": "ignored",
          "traceback": [
            "\u001b[0;31m---------------------------------------------------------------------------\u001b[0m",
            "\u001b[0;31mKeyboardInterrupt\u001b[0m                         Traceback (most recent call last)",
            "\u001b[0;32m<ipython-input-9-2da0ffaf5447>\u001b[0m in \u001b[0;36m<module>\u001b[0;34m()\u001b[0m\n\u001b[0;32m----> 1\u001b[0;31m \u001b[0mtrain\u001b[0m\u001b[0;34m(\u001b[0m\u001b[0;34m)\u001b[0m\u001b[0;34m\u001b[0m\u001b[0;34m\u001b[0m\u001b[0m\n\u001b[0m",
            "\u001b[0;32m<ipython-input-6-ede3610454b8>\u001b[0m in \u001b[0;36mtrain\u001b[0;34m(EPOCHS, BATCH, LEARNING_RATE)\u001b[0m\n\u001b[1;32m     60\u001b[0m           \u001b[0mbatch\u001b[0m \u001b[0;34m=\u001b[0m \u001b[0mtrain_indices\u001b[0m\u001b[0;34m[\u001b[0m\u001b[0mit\u001b[0m\u001b[0;34m:\u001b[0m\u001b[0mit\u001b[0m\u001b[0;34m+\u001b[0m\u001b[0mBATCH\u001b[0m\u001b[0;34m]\u001b[0m\u001b[0;34m\u001b[0m\u001b[0;34m\u001b[0m\u001b[0m\n\u001b[1;32m     61\u001b[0m           \u001b[0mavg_train_loss\u001b[0m \u001b[0;34m+=\u001b[0m \u001b[0mfloat\u001b[0m\u001b[0;34m(\u001b[0m\u001b[0mtrain_op\u001b[0m\u001b[0;34m(\u001b[0m\u001b[0mX_train\u001b[0m\u001b[0;34m[\u001b[0m\u001b[0mbatch\u001b[0m\u001b[0;34m]\u001b[0m\u001b[0;34m,\u001b[0m \u001b[0mY_train\u001b[0m\u001b[0;34m[\u001b[0m\u001b[0mbatch\u001b[0m\u001b[0;34m]\u001b[0m\u001b[0;34m,\u001b[0m \u001b[0mLEARNING_RATE\u001b[0m\u001b[0;34m)\u001b[0m\u001b[0;34m[\u001b[0m\u001b[0;36m0\u001b[0m\u001b[0;34m]\u001b[0m\u001b[0;34m)\u001b[0m \u001b[0;34m*\u001b[0m \u001b[0mlen\u001b[0m\u001b[0;34m(\u001b[0m\u001b[0mbatch\u001b[0m\u001b[0;34m)\u001b[0m\u001b[0;34m\u001b[0m\u001b[0;34m\u001b[0m\u001b[0m\n\u001b[0;32m---> 62\u001b[0;31m           \u001b[0mtrain_prediction\u001b[0m \u001b[0;34m=\u001b[0m \u001b[0mpredict\u001b[0m\u001b[0;34m(\u001b[0m\u001b[0mX_train\u001b[0m\u001b[0;34m[\u001b[0m\u001b[0mbatch\u001b[0m\u001b[0;34m]\u001b[0m\u001b[0;34m)\u001b[0m\u001b[0;34m.\u001b[0m\u001b[0margmax\u001b[0m\u001b[0;34m(\u001b[0m\u001b[0;36m1\u001b[0m\u001b[0;34m)\u001b[0m\u001b[0;34m\u001b[0m\u001b[0;34m\u001b[0m\u001b[0m\n\u001b[0m\u001b[1;32m     63\u001b[0m           \u001b[0mtrain_acc\u001b[0m \u001b[0;34m+=\u001b[0m \u001b[0;34m(\u001b[0m\u001b[0mnp\u001b[0m\u001b[0;34m.\u001b[0m\u001b[0marray\u001b[0m\u001b[0;34m(\u001b[0m\u001b[0mtrain_prediction\u001b[0m\u001b[0;34m)\u001b[0m\u001b[0;34m.\u001b[0m\u001b[0mflatten\u001b[0m\u001b[0;34m(\u001b[0m\u001b[0;34m)\u001b[0m \u001b[0;34m==\u001b[0m \u001b[0mY_train\u001b[0m\u001b[0;34m[\u001b[0m\u001b[0mbatch\u001b[0m\u001b[0;34m]\u001b[0m\u001b[0;34m)\u001b[0m\u001b[0;34m.\u001b[0m\u001b[0msum\u001b[0m\u001b[0;34m(\u001b[0m\u001b[0;34m)\u001b[0m\u001b[0;34m\u001b[0m\u001b[0;34m\u001b[0m\u001b[0m\n\u001b[1;32m     64\u001b[0m       \u001b[0mtrain_acc_epoch\u001b[0m\u001b[0;34m.\u001b[0m\u001b[0mappend\u001b[0m\u001b[0;34m(\u001b[0m\u001b[0mtrain_acc\u001b[0m\u001b[0;34m/\u001b[0m\u001b[0mX_train\u001b[0m\u001b[0;34m.\u001b[0m\u001b[0mshape\u001b[0m\u001b[0;34m[\u001b[0m\u001b[0;36m0\u001b[0m\u001b[0;34m]\u001b[0m\u001b[0;34m)\u001b[0m\u001b[0;34m\u001b[0m\u001b[0;34m\u001b[0m\u001b[0m\n",
            "\u001b[0;32m/usr/local/lib/python3.7/dist-packages/objax/module.py\u001b[0m in \u001b[0;36m__call__\u001b[0;34m(self, *args, **kwargs)\u001b[0m\n\u001b[1;32m    256\u001b[0m     \u001b[0;32mdef\u001b[0m \u001b[0m__call__\u001b[0m\u001b[0;34m(\u001b[0m\u001b[0mself\u001b[0m\u001b[0;34m,\u001b[0m \u001b[0;34m*\u001b[0m\u001b[0margs\u001b[0m\u001b[0;34m,\u001b[0m \u001b[0;34m**\u001b[0m\u001b[0mkwargs\u001b[0m\u001b[0;34m)\u001b[0m\u001b[0;34m:\u001b[0m\u001b[0;34m\u001b[0m\u001b[0;34m\u001b[0m\u001b[0m\n\u001b[1;32m    257\u001b[0m         \u001b[0;34m\"\"\"Call the compiled version of the function or module.\"\"\"\u001b[0m\u001b[0;34m\u001b[0m\u001b[0;34m\u001b[0m\u001b[0m\n\u001b[0;32m--> 258\u001b[0;31m         \u001b[0moutput\u001b[0m\u001b[0;34m,\u001b[0m \u001b[0mchanges\u001b[0m \u001b[0;34m=\u001b[0m \u001b[0mself\u001b[0m\u001b[0;34m.\u001b[0m\u001b[0m_call\u001b[0m\u001b[0;34m(\u001b[0m\u001b[0mself\u001b[0m\u001b[0;34m.\u001b[0m\u001b[0mvc\u001b[0m\u001b[0;34m.\u001b[0m\u001b[0mtensors\u001b[0m\u001b[0;34m(\u001b[0m\u001b[0;34m)\u001b[0m\u001b[0;34m,\u001b[0m \u001b[0mkwargs\u001b[0m\u001b[0;34m,\u001b[0m \u001b[0;34m*\u001b[0m\u001b[0margs\u001b[0m\u001b[0;34m)\u001b[0m\u001b[0;34m\u001b[0m\u001b[0;34m\u001b[0m\u001b[0m\n\u001b[0m\u001b[1;32m    259\u001b[0m         \u001b[0mself\u001b[0m\u001b[0;34m.\u001b[0m\u001b[0mvc\u001b[0m\u001b[0;34m.\u001b[0m\u001b[0massign\u001b[0m\u001b[0;34m(\u001b[0m\u001b[0mchanges\u001b[0m\u001b[0;34m)\u001b[0m\u001b[0;34m\u001b[0m\u001b[0;34m\u001b[0m\u001b[0m\n\u001b[1;32m    260\u001b[0m         \u001b[0;32mreturn\u001b[0m \u001b[0moutput\u001b[0m\u001b[0;34m\u001b[0m\u001b[0;34m\u001b[0m\u001b[0m\n",
            "\u001b[0;31mKeyboardInterrupt\u001b[0m: "
          ]
        }
      ]
    },
    {
      "cell_type": "markdown",
      "metadata": {
        "id": "ersn9ThTaDew"
      },
      "source": [
        "**Discussions and Results:**\n",
        "\n",
        "\n",
        "H = {Learning Rate, Epochs,number of outputs of conv layer 1} \n",
        "\n",
        "H = {8*e-3, 50, 32}\n",
        "Major changes in hyperparameter are the number of outputs of convolution layer 1 and the number of epochs. We chose to slightly decreasing learning rate so that the training process doesn't take too long to complete.\n",
        "\n",
        "We increased the width of the model by increasing the numbder of outputs of convolution layer 1, this adds to the width and complexity of the current model, and thus improve the previous underfitted model. We also increased the number of training epochs so that the model can be trained on the images more thoroughly. The new validation accuracy is now 48.68, which improved a lot compared to the base model accuracy 0.42."
      ]
    },
    {
      "cell_type": "markdown",
      "metadata": {
        "id": "hg4msz3TLTBS"
      },
      "source": [
        "**Q4:**Select final model and report accuracy"
      ]
    },
    {
      "cell_type": "code",
      "metadata": {
        "id": "Fxgvk-cLLYWC"
      },
      "source": [
        "avg_test_loss = 0\n",
        "test_acc = 0\n",
        "test_acc\n",
        "for i in range(0, X_test.shape[0]):\n",
        "    avg_test_loss += float(loss_function(X_test[i], Y_test[i]))\n",
        "    test_prediction = predict(X_test[i]).argmax(1)\n",
        "    test_acc += (np.array(test_prediction).flatten() == Y_test[i]).sum()\n",
        "    \n",
        "test_acc_final = test_acc/X_test.shape[0]\n",
        "avg_test_loss_final = avg_test_loss/X_test.shape[0]"
      ],
      "execution_count": null,
      "outputs": []
    },
    {
      "cell_type": "markdown",
      "metadata": {
        "id": "Eye-uBnQWgc8"
      },
      "source": [
        "##**Problem 4. Open-Ended Exploration**\n",
        "\n",
        "See the handout for instructions."
      ]
    },
    {
      "cell_type": "markdown",
      "metadata": {
        "id": "Nh7iK4fEPant"
      },
      "source": [
        "**Question : Additional hyperparameter tuning**\n",
        "\n",
        "Come up with one or several hyperparametersthat you have not tried in the previous parts (e.g., explore arguments of the methodobjax.nn.Cov2d),  tune  them  on  the  validation  set  until  you  see  (at-least)  5%-10%increase in the validation accuracy as compared to a base model.  Discuss whether itperforms well on the test set as compared to your base model.\n",
        "\n",
        "**Hyperparameter we are tuning for this part:** *number of convolution layers*\n",
        "\n",
        "we will add another hidden layer to our neural network, and visualize the loss and accuracy on a plot."
      ]
    },
    {
      "cell_type": "code",
      "metadata": {
        "id": "7qqQkriPPx6F"
      },
      "source": [
        "class ConvNet(objax.Module):\n",
        "  def __init__(self, number_of_channels = 3, number_of_classes = 100):\n",
        "    self.conv_1 = objax.nn.Sequential([objax.nn.Conv2D(number_of_channels, 32, 2), objax.functional.relu])\n",
        "    self.conv_2 = objax.nn.Sequential([objax.nn.Conv2D(32, 32, 2), objax.functional.relu])\n",
        "    self.conv_3 = objax.nn.Sequential([objax.nn.Conv2D(32, 32, 2), objax.functional.relu])\n",
        "    self.linear = objax.nn.Linear(32, number_of_classes) \n",
        "\n",
        "  def __call__(self, x):\n",
        "    x = objax.functional.max_pool_2d(self.conv_1(x), 2, 2)\n",
        "    x = self.conv_2(x)\n",
        "    x = self.conv_3(x)\n",
        "  \n",
        "    x = x.mean((2,3)) #<--- global average pooling \n",
        "    x = self.linear(x)\n",
        "    return x\n",
        "\n",
        "#The following line creates the CNN\n",
        "M1 = ConvNet()\n",
        "\n",
        "#Define loss function as averaged value of of cross entropies\n",
        "def loss_function(x, labels):\n",
        "    logit = M1(x)\n",
        "    return objax.functional.loss.cross_entropy_logits_sparse(logit, labels).mean()\n",
        "\n",
        "#Define a prediction function\n",
        "predict = objax.Jit(lambda x: objax.functional.softmax(M1(x)), M1.vars()) \n",
        "\n",
        "#Create an object that can be used to calculate the gradient and value of loss_function\n",
        "gv= objax.GradValues(loss_function, M1.vars())\n",
        "\n",
        "#Create an object that can be used to provide trainable variables in the model\n",
        "tv = objax.ModuleList(objax.TrainRef(x) for x in M1.vars().subset(objax.TrainVar))\n",
        "\n",
        "#Training routine\n",
        "def train_op(x, y, learning_rate):\n",
        "    lr = learning_rate\n",
        "    gradient, loss_value = gv(x, y)   # calculate gradient and loss value \"backprop\"\n",
        "    #next we update the trainable parameter using SGD and similar procedure\n",
        "    for grad, params in zip(gradient, tv.vars()):\n",
        "      params.value = params.value - lr*grad                   \n",
        "    return loss_value                      # return loss value\n",
        "\n",
        "#make train_op (much) faster using JIT compilation\n",
        "train_op = objax.Jit(train_op, gv.vars() + tv.vars())\n",
        "\n",
        "def train(EPOCHS = 35, BATCH = 16, LEARNING_RATE = 8e-3):\n",
        "  avg_train_loss_epoch = []\n",
        "  avg_val_loss_epoch = []\n",
        "  train_acc_epoch = []\n",
        "  val_acc_epoch = []\n",
        "\n",
        "  for epoch in range(EPOCHS):\n",
        "      avg_train_loss = 0 # (averaged) training loss per batch\n",
        "      avg_val_loss =  0  # (averaged) validation loss per batch\n",
        "      train_acc = 0      # training accuracy per batch\n",
        "      val_acc = 0        # validation accuracy per batch\n",
        "\n",
        "      # shuffle the examples prior to training to remove correlation \n",
        "      train_indices = np.arange(len(X_train)) \n",
        "      np.random.shuffle(train_indices)\n",
        "      for it in range(0, X_train.shape[0], BATCH):\n",
        "          batch = train_indices[it:it+BATCH]\n",
        "          avg_train_loss += float(train_op(X_train[batch], Y_train[batch], LEARNING_RATE)[0]) * len(batch)\n",
        "          train_prediction = predict(X_train[batch]).argmax(1)\n",
        "          train_acc += (np.array(train_prediction).flatten() == Y_train[batch]).sum()\n",
        "      train_acc_epoch.append(train_acc/X_train.shape[0])\n",
        "      avg_train_loss_epoch.append(avg_train_loss/X_train.shape[0])\n",
        "\n",
        "      # run validation\n",
        "      val_indices = np.arange(len(X_valid)) \n",
        "      np.random.shuffle(val_indices)    \n",
        "      for it in range(0, X_valid.shape[0], BATCH):\n",
        "          batch = val_indices[it:it+BATCH]\n",
        "          avg_val_loss += float(loss_function(X_valid[batch], Y_valid[batch])) * len(batch)\n",
        "          val_prediction = predict(X_valid[batch]).argmax(1)\n",
        "          val_acc += (np.array(val_prediction).flatten() == Y_valid[batch]).sum()\n",
        "      val_acc_epoch.append(val_acc/X_valid.shape[0])\n",
        "      avg_val_loss_epoch.append(avg_val_loss/X_valid.shape[0])\n",
        "\n",
        "      print('Epoch %04d  Training Loss %.2f Validation Loss %.2f Training Accuracy %.2f Validation Accuracy %.2f' % (epoch + 1, avg_train_loss/X_train.shape[0], avg_val_loss/X_valid.shape[0], 100*train_acc/X_train.shape[0], 100*val_acc/X_valid.shape[0]))\n",
        "\n",
        "  #Plot training loss\n",
        "  plt.title(\"Train vs Validation Loss\")\n",
        "  plt.plot(avg_train_loss_epoch, label=\"Train\")\n",
        "  plt.plot(avg_val_loss_epoch, label=\"Validation\")\n",
        "  plt.xlabel(\"Epoch\")\n",
        "  plt.ylabel(\"Loss\")\n",
        "  plt.legend(loc='best')\n",
        "  plt.show()\n",
        "\n",
        "  plt.title(\"Train vs Validation Accuracy\")\n",
        "  plt.plot(train_acc_epoch, label=\"Train\")\n",
        "  plt.plot(val_acc_epoch, label=\"Validation\")\n",
        "  plt.xlabel(\"Epoch\")\n",
        "  plt.ylabel(\"Accuracy (%)\")\n",
        "  plt.legend(loc='best')\n",
        "  plt.show()"
      ],
      "execution_count": null,
      "outputs": []
    },
    {
      "cell_type": "code",
      "metadata": {
        "id": "FeN9K_eib_EC"
      },
      "source": [
        "train()"
      ],
      "execution_count": null,
      "outputs": []
    },
    {
      "cell_type": "markdown",
      "metadata": {
        "id": "JYOkLOqFX9w3"
      },
      "source": [
        "**Results:**\n",
        "The final validation accuracy reaches 50.52, which was 0.42 for the base model. \n",
        "The poor performance of the base model can be perceived as a result of highly underfitted model. We directed copied the same model used for CIFAR10 which only has 10 classes to be our base model for the current dataset, which contains 100 classes, esstentially at least 10 times more information. The old hyperparameters that worked well for CIFAR10 have proven to be insufficient for CIFAR100, we have to increase the complexity of the model for it to generalize better. Adding another hidden layer of neural network adds to the depth of our current DNN and helps improve the performance of the model this way.\n",
        "\n",
        " At the same time, decreasing batch size and increasing number of epochs also increase validation accuracy because the model essentially goes through the images in a more dense fashion and learns the data better."
      ]
    }
  ]
}